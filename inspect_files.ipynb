{
 "cells": [
  {
   "cell_type": "code",
   "execution_count": 1,
   "metadata": {
    "collapsed": true
   },
   "outputs": [],
   "source": [
    "import pathlib as pl\n",
    "from glob import glob\n",
    "\n",
    "import nibabel\n",
    "import pandas as pd\n",
    "from IPython.display import display\n",
    "\n",
    "\n",
    "DATA_ROOT = pl.Path('../data')\n",
    "DIR_BIDS = DATA_ROOT / 'C-PAC_Derivatives/preproc/output/cpac_cpac_preproc/sub-0025429_ses-1'\n",
    "GLOB_BIDS_FILES = '/**/*.*'"
   ]
  },
  {
   "cell_type": "code",
   "execution_count": 2,
   "outputs": [],
   "source": [
    "# The following code groups all files in a BIDS directory by their tags and adds some\n",
    "# meta information (sources, description, shape & dtype for images).\n",
    "\n",
    "from common.bids_utils import\\\n",
    "    bids_file_fetch_json,\\\n",
    "    bids_file_to_dict,\\\n",
    "    group_bids_dicts,\\\n",
    "    remove_all_file_extensions,\\\n",
    "    get_all_file_extensions\n",
    "\n",
    "# Collect non-JSON files\n",
    "bids_dicts = [bids_file_to_dict(file_path) for file_path in glob(DIR_BIDS.as_posix() + GLOB_BIDS_FILES) if\n",
    "              not file_path.endswith('.json')]\n",
    "\n",
    "# Group bids data\n",
    "bids_groups = group_bids_dicts(bids_dicts)\n",
    "\n",
    "# Collect additional information\n",
    "for bids_group in bids_groups:\n",
    "    for bids_record in bids_group:\n",
    "        file_path = bids_record['_filepath']\n",
    "        bids_record['_filepath'] = pl.Path(remove_all_file_extensions(file_path)).name\n",
    "        bids_record['_fileext'] = get_all_file_extensions(file_path)\n",
    "        bids_json = bids_file_fetch_json(file_path)\n",
    "\n",
    "        if bids_record['_fileext'] in ('nii.gz', 'nii'):\n",
    "            try:\n",
    "                img_nii = nibabel.load(file_path)\n",
    "                bids_record['_shape'] = f'{img_nii.shape}'\n",
    "                bids_record['_dtype'] = f'{img_nii.get_data_dtype()}'\n",
    "            except:  # noqa\n",
    "                pass\n",
    "        if bids_json is not None:\n",
    "            if 'Sources' in bids_json:\n",
    "                bids_record['_sources'] = ', '.join(bids_json['Sources'])\n",
    "            if 'Description' in bids_json:\n",
    "                bids_record['_description'] = bids_json['Description']\n",
    "\n",
    "# Convert to data frames\n",
    "dfs = [pd.DataFrame.from_records(g) for g in bids_groups]\n",
    "\n",
    "# Move filepath back\n",
    "for df in dfs:\n",
    "    if '_filepath' in df.columns:\n",
    "        column_filepath = df.pop('_filepath')\n",
    "        df['_filepath'] = column_filepath"
   ],
   "metadata": {
    "collapsed": false
   }
  },
  {
   "cell_type": "code",
   "execution_count": 3,
   "outputs": [
    {
     "data": {
      "text/plain": "  ses      desc      _source _suffix _fileext           _shape   _dtype  \\\n0   1     brain  sub-0025429     T1w   nii.gz  (176, 256, 256)  float32   \n1   1   preproc  sub-0025429     T1w   nii.gz  (176, 256, 256)  float32   \n2   1  reorient  sub-0025429     T1w   nii.gz  (176, 256, 256)  float32   \n\n                                      _sources  \\\n0  desc-preproc_T1w, space-T1w_desc-brain_mask   \n1                                          T1w   \n2                                          T1w   \n\n                             _filepath  \n0     sub-0025429_ses-1_desc-brain_T1w  \n1   sub-0025429_ses-1_desc-preproc_T1w  \n2  sub-0025429_ses-1_desc-reorient_T1w  ",
      "text/html": "<div>\n<style scoped>\n    .dataframe tbody tr th:only-of-type {\n        vertical-align: middle;\n    }\n\n    .dataframe tbody tr th {\n        vertical-align: top;\n    }\n\n    .dataframe thead th {\n        text-align: right;\n    }\n</style>\n<table border=\"1\" class=\"dataframe\">\n  <thead>\n    <tr style=\"text-align: right;\">\n      <th></th>\n      <th>ses</th>\n      <th>desc</th>\n      <th>_source</th>\n      <th>_suffix</th>\n      <th>_fileext</th>\n      <th>_shape</th>\n      <th>_dtype</th>\n      <th>_sources</th>\n      <th>_filepath</th>\n    </tr>\n  </thead>\n  <tbody>\n    <tr>\n      <th>0</th>\n      <td>1</td>\n      <td>brain</td>\n      <td>sub-0025429</td>\n      <td>T1w</td>\n      <td>nii.gz</td>\n      <td>(176, 256, 256)</td>\n      <td>float32</td>\n      <td>desc-preproc_T1w, space-T1w_desc-brain_mask</td>\n      <td>sub-0025429_ses-1_desc-brain_T1w</td>\n    </tr>\n    <tr>\n      <th>1</th>\n      <td>1</td>\n      <td>preproc</td>\n      <td>sub-0025429</td>\n      <td>T1w</td>\n      <td>nii.gz</td>\n      <td>(176, 256, 256)</td>\n      <td>float32</td>\n      <td>T1w</td>\n      <td>sub-0025429_ses-1_desc-preproc_T1w</td>\n    </tr>\n    <tr>\n      <th>2</th>\n      <td>1</td>\n      <td>reorient</td>\n      <td>sub-0025429</td>\n      <td>T1w</td>\n      <td>nii.gz</td>\n      <td>(176, 256, 256)</td>\n      <td>float32</td>\n      <td>T1w</td>\n      <td>sub-0025429_ses-1_desc-reorient_T1w</td>\n    </tr>\n  </tbody>\n</table>\n</div>"
     },
     "metadata": {},
     "output_type": "display_data"
    },
    {
     "data": {
      "text/plain": "  ses      from        to   mode       desc      _source _suffix _fileext  \\\n0   1       T1w  template  image     linear  sub-0025429     xfm   nii.gz   \n1   1       T1w  template  image  nonlinear  sub-0025429     xfm   nii.gz   \n2   1  template       T1w  image     linear  sub-0025429     xfm   nii.gz   \n3   1  template       T1w  image  nonlinear  sub-0025429     xfm   nii.gz   \n\n                  _shape   _dtype  \\\n0    (91, 109, 91, 1, 3)  float64   \n1    (91, 109, 91, 1, 3)  float64   \n2  (176, 256, 256, 1, 3)  float64   \n3    (91, 109, 91, 1, 3)  float64   \n\n                                            _sources  \\\n0  desc-brain_T1w, space-T1w_desc-brain_mask, des...   \n1  desc-brain_T1w, space-T1w_desc-brain_mask, des...   \n2  desc-brain_T1w, space-T1w_desc-brain_mask, des...   \n3  desc-brain_T1w, space-T1w_desc-brain_mask, des...   \n\n                                        _description  \\\n0  Linear (affine) transform from T1w native spac...   \n1  Nonlinear (warp field) transform from T1w nati...   \n2  Linear (affine) transform from T1w-template sp...   \n3  Nonlinear (warp field) transform from T1w-temp...   \n\n                                           _filepath  \n0  sub-0025429_ses-1_from-T1w_to-template_mode-im...  \n1  sub-0025429_ses-1_from-T1w_to-template_mode-im...  \n2  sub-0025429_ses-1_from-template_to-T1w_mode-im...  \n3  sub-0025429_ses-1_from-template_to-T1w_mode-im...  ",
      "text/html": "<div>\n<style scoped>\n    .dataframe tbody tr th:only-of-type {\n        vertical-align: middle;\n    }\n\n    .dataframe tbody tr th {\n        vertical-align: top;\n    }\n\n    .dataframe thead th {\n        text-align: right;\n    }\n</style>\n<table border=\"1\" class=\"dataframe\">\n  <thead>\n    <tr style=\"text-align: right;\">\n      <th></th>\n      <th>ses</th>\n      <th>from</th>\n      <th>to</th>\n      <th>mode</th>\n      <th>desc</th>\n      <th>_source</th>\n      <th>_suffix</th>\n      <th>_fileext</th>\n      <th>_shape</th>\n      <th>_dtype</th>\n      <th>_sources</th>\n      <th>_description</th>\n      <th>_filepath</th>\n    </tr>\n  </thead>\n  <tbody>\n    <tr>\n      <th>0</th>\n      <td>1</td>\n      <td>T1w</td>\n      <td>template</td>\n      <td>image</td>\n      <td>linear</td>\n      <td>sub-0025429</td>\n      <td>xfm</td>\n      <td>nii.gz</td>\n      <td>(91, 109, 91, 1, 3)</td>\n      <td>float64</td>\n      <td>desc-brain_T1w, space-T1w_desc-brain_mask, des...</td>\n      <td>Linear (affine) transform from T1w native spac...</td>\n      <td>sub-0025429_ses-1_from-T1w_to-template_mode-im...</td>\n    </tr>\n    <tr>\n      <th>1</th>\n      <td>1</td>\n      <td>T1w</td>\n      <td>template</td>\n      <td>image</td>\n      <td>nonlinear</td>\n      <td>sub-0025429</td>\n      <td>xfm</td>\n      <td>nii.gz</td>\n      <td>(91, 109, 91, 1, 3)</td>\n      <td>float64</td>\n      <td>desc-brain_T1w, space-T1w_desc-brain_mask, des...</td>\n      <td>Nonlinear (warp field) transform from T1w nati...</td>\n      <td>sub-0025429_ses-1_from-T1w_to-template_mode-im...</td>\n    </tr>\n    <tr>\n      <th>2</th>\n      <td>1</td>\n      <td>template</td>\n      <td>T1w</td>\n      <td>image</td>\n      <td>linear</td>\n      <td>sub-0025429</td>\n      <td>xfm</td>\n      <td>nii.gz</td>\n      <td>(176, 256, 256, 1, 3)</td>\n      <td>float64</td>\n      <td>desc-brain_T1w, space-T1w_desc-brain_mask, des...</td>\n      <td>Linear (affine) transform from T1w-template sp...</td>\n      <td>sub-0025429_ses-1_from-template_to-T1w_mode-im...</td>\n    </tr>\n    <tr>\n      <th>3</th>\n      <td>1</td>\n      <td>template</td>\n      <td>T1w</td>\n      <td>image</td>\n      <td>nonlinear</td>\n      <td>sub-0025429</td>\n      <td>xfm</td>\n      <td>nii.gz</td>\n      <td>(91, 109, 91, 1, 3)</td>\n      <td>float64</td>\n      <td>desc-brain_T1w, space-T1w_desc-brain_mask, des...</td>\n      <td>Nonlinear (warp field) transform from T1w-temp...</td>\n      <td>sub-0025429_ses-1_from-template_to-T1w_mode-im...</td>\n    </tr>\n  </tbody>\n</table>\n</div>"
     },
     "metadata": {},
     "output_type": "display_data"
    },
    {
     "data": {
      "text/plain": "  ses      from        to   mode      _source _suffix _fileext  \\\n0   1       T1w  template  image  sub-0025429     xfm   nii.gz   \n1   1  template       T1w  image  sub-0025429     xfm   nii.gz   \n\n                  _shape   _dtype  \\\n0    (91, 109, 91, 1, 3)  float64   \n1  (176, 256, 256, 1, 3)  float64   \n\n                                            _sources  \\\n0  desc-brain_T1w, space-T1w_desc-brain_mask, des...   \n1  desc-brain_T1w, space-T1w_desc-brain_mask, des...   \n\n                                        _description  \\\n0  Composite (affine + warp field) transform from...   \n1  Composite (affine + warp field) transform from...   \n\n                                           _filepath  \n0  sub-0025429_ses-1_from-T1w_to-template_mode-im...  \n1  sub-0025429_ses-1_from-template_to-T1w_mode-im...  ",
      "text/html": "<div>\n<style scoped>\n    .dataframe tbody tr th:only-of-type {\n        vertical-align: middle;\n    }\n\n    .dataframe tbody tr th {\n        vertical-align: top;\n    }\n\n    .dataframe thead th {\n        text-align: right;\n    }\n</style>\n<table border=\"1\" class=\"dataframe\">\n  <thead>\n    <tr style=\"text-align: right;\">\n      <th></th>\n      <th>ses</th>\n      <th>from</th>\n      <th>to</th>\n      <th>mode</th>\n      <th>_source</th>\n      <th>_suffix</th>\n      <th>_fileext</th>\n      <th>_shape</th>\n      <th>_dtype</th>\n      <th>_sources</th>\n      <th>_description</th>\n      <th>_filepath</th>\n    </tr>\n  </thead>\n  <tbody>\n    <tr>\n      <th>0</th>\n      <td>1</td>\n      <td>T1w</td>\n      <td>template</td>\n      <td>image</td>\n      <td>sub-0025429</td>\n      <td>xfm</td>\n      <td>nii.gz</td>\n      <td>(91, 109, 91, 1, 3)</td>\n      <td>float64</td>\n      <td>desc-brain_T1w, space-T1w_desc-brain_mask, des...</td>\n      <td>Composite (affine + warp field) transform from...</td>\n      <td>sub-0025429_ses-1_from-T1w_to-template_mode-im...</td>\n    </tr>\n    <tr>\n      <th>1</th>\n      <td>1</td>\n      <td>template</td>\n      <td>T1w</td>\n      <td>image</td>\n      <td>sub-0025429</td>\n      <td>xfm</td>\n      <td>nii.gz</td>\n      <td>(176, 256, 256, 1, 3)</td>\n      <td>float64</td>\n      <td>desc-brain_T1w, space-T1w_desc-brain_mask, des...</td>\n      <td>Composite (affine + warp field) transform from...</td>\n      <td>sub-0025429_ses-1_from-template_to-T1w_mode-im...</td>\n    </tr>\n  </tbody>\n</table>\n</div>"
     },
     "metadata": {},
     "output_type": "display_data"
    },
    {
     "data": {
      "text/plain": "  ses label     desc      _source _suffix _fileext           _shape   _dtype  \\\n0   1   CSF  preproc  sub-0025429    mask   nii.gz  (176, 256, 256)  float32   \n1   1    GM  preproc  sub-0025429    mask   nii.gz  (176, 256, 256)  float32   \n2   1    WM  preproc  sub-0025429    mask   nii.gz  (176, 256, 256)  float32   \n\n                                            _sources  \\\n0  desc-brain_T1w, space-T1w_desc-brain_mask, fro...   \n1  desc-brain_T1w, space-T1w_desc-brain_mask, fro...   \n2  desc-brain_T1w, space-T1w_desc-brain_mask, fro...   \n\n                                       _filepath  \n0  sub-0025429_ses-1_label-CSF_desc-preproc_mask  \n1   sub-0025429_ses-1_label-GM_desc-preproc_mask  \n2   sub-0025429_ses-1_label-WM_desc-preproc_mask  ",
      "text/html": "<div>\n<style scoped>\n    .dataframe tbody tr th:only-of-type {\n        vertical-align: middle;\n    }\n\n    .dataframe tbody tr th {\n        vertical-align: top;\n    }\n\n    .dataframe thead th {\n        text-align: right;\n    }\n</style>\n<table border=\"1\" class=\"dataframe\">\n  <thead>\n    <tr style=\"text-align: right;\">\n      <th></th>\n      <th>ses</th>\n      <th>label</th>\n      <th>desc</th>\n      <th>_source</th>\n      <th>_suffix</th>\n      <th>_fileext</th>\n      <th>_shape</th>\n      <th>_dtype</th>\n      <th>_sources</th>\n      <th>_filepath</th>\n    </tr>\n  </thead>\n  <tbody>\n    <tr>\n      <th>0</th>\n      <td>1</td>\n      <td>CSF</td>\n      <td>preproc</td>\n      <td>sub-0025429</td>\n      <td>mask</td>\n      <td>nii.gz</td>\n      <td>(176, 256, 256)</td>\n      <td>float32</td>\n      <td>desc-brain_T1w, space-T1w_desc-brain_mask, fro...</td>\n      <td>sub-0025429_ses-1_label-CSF_desc-preproc_mask</td>\n    </tr>\n    <tr>\n      <th>1</th>\n      <td>1</td>\n      <td>GM</td>\n      <td>preproc</td>\n      <td>sub-0025429</td>\n      <td>mask</td>\n      <td>nii.gz</td>\n      <td>(176, 256, 256)</td>\n      <td>float32</td>\n      <td>desc-brain_T1w, space-T1w_desc-brain_mask, fro...</td>\n      <td>sub-0025429_ses-1_label-GM_desc-preproc_mask</td>\n    </tr>\n    <tr>\n      <th>2</th>\n      <td>1</td>\n      <td>WM</td>\n      <td>preproc</td>\n      <td>sub-0025429</td>\n      <td>mask</td>\n      <td>nii.gz</td>\n      <td>(176, 256, 256)</td>\n      <td>float32</td>\n      <td>desc-brain_T1w, space-T1w_desc-brain_mask, fro...</td>\n      <td>sub-0025429_ses-1_label-WM_desc-preproc_mask</td>\n    </tr>\n  </tbody>\n</table>\n</div>"
     },
     "metadata": {},
     "output_type": "display_data"
    },
    {
     "data": {
      "text/plain": "  ses label      _source  _suffix _fileext           _shape   _dtype  \\\n0   1   CSF  sub-0025429     mask   nii.gz  (176, 256, 256)    int32   \n1   1   CSF  sub-0025429  probseg   nii.gz  (176, 256, 256)  float32   \n2   1    GM  sub-0025429     mask   nii.gz  (176, 256, 256)    int32   \n3   1    GM  sub-0025429  probseg   nii.gz  (176, 256, 256)  float32   \n4   1    WM  sub-0025429     mask   nii.gz  (176, 256, 256)    int32   \n5   1    WM  sub-0025429  probseg   nii.gz  (176, 256, 256)  float32   \n\n                                            _sources  \\\n0  desc-brain_T1w, space-T1w_desc-brain_mask, fro...   \n1  desc-brain_T1w, space-T1w_desc-brain_mask, fro...   \n2  desc-brain_T1w, space-T1w_desc-brain_mask, fro...   \n3  desc-brain_T1w, space-T1w_desc-brain_mask, fro...   \n4  desc-brain_T1w, space-T1w_desc-brain_mask, fro...   \n5  desc-brain_T1w, space-T1w_desc-brain_mask, fro...   \n\n                             _filepath  \n0     sub-0025429_ses-1_label-CSF_mask  \n1  sub-0025429_ses-1_label-CSF_probseg  \n2      sub-0025429_ses-1_label-GM_mask  \n3   sub-0025429_ses-1_label-GM_probseg  \n4      sub-0025429_ses-1_label-WM_mask  \n5   sub-0025429_ses-1_label-WM_probseg  ",
      "text/html": "<div>\n<style scoped>\n    .dataframe tbody tr th:only-of-type {\n        vertical-align: middle;\n    }\n\n    .dataframe tbody tr th {\n        vertical-align: top;\n    }\n\n    .dataframe thead th {\n        text-align: right;\n    }\n</style>\n<table border=\"1\" class=\"dataframe\">\n  <thead>\n    <tr style=\"text-align: right;\">\n      <th></th>\n      <th>ses</th>\n      <th>label</th>\n      <th>_source</th>\n      <th>_suffix</th>\n      <th>_fileext</th>\n      <th>_shape</th>\n      <th>_dtype</th>\n      <th>_sources</th>\n      <th>_filepath</th>\n    </tr>\n  </thead>\n  <tbody>\n    <tr>\n      <th>0</th>\n      <td>1</td>\n      <td>CSF</td>\n      <td>sub-0025429</td>\n      <td>mask</td>\n      <td>nii.gz</td>\n      <td>(176, 256, 256)</td>\n      <td>int32</td>\n      <td>desc-brain_T1w, space-T1w_desc-brain_mask, fro...</td>\n      <td>sub-0025429_ses-1_label-CSF_mask</td>\n    </tr>\n    <tr>\n      <th>1</th>\n      <td>1</td>\n      <td>CSF</td>\n      <td>sub-0025429</td>\n      <td>probseg</td>\n      <td>nii.gz</td>\n      <td>(176, 256, 256)</td>\n      <td>float32</td>\n      <td>desc-brain_T1w, space-T1w_desc-brain_mask, fro...</td>\n      <td>sub-0025429_ses-1_label-CSF_probseg</td>\n    </tr>\n    <tr>\n      <th>2</th>\n      <td>1</td>\n      <td>GM</td>\n      <td>sub-0025429</td>\n      <td>mask</td>\n      <td>nii.gz</td>\n      <td>(176, 256, 256)</td>\n      <td>int32</td>\n      <td>desc-brain_T1w, space-T1w_desc-brain_mask, fro...</td>\n      <td>sub-0025429_ses-1_label-GM_mask</td>\n    </tr>\n    <tr>\n      <th>3</th>\n      <td>1</td>\n      <td>GM</td>\n      <td>sub-0025429</td>\n      <td>probseg</td>\n      <td>nii.gz</td>\n      <td>(176, 256, 256)</td>\n      <td>float32</td>\n      <td>desc-brain_T1w, space-T1w_desc-brain_mask, fro...</td>\n      <td>sub-0025429_ses-1_label-GM_probseg</td>\n    </tr>\n    <tr>\n      <th>4</th>\n      <td>1</td>\n      <td>WM</td>\n      <td>sub-0025429</td>\n      <td>mask</td>\n      <td>nii.gz</td>\n      <td>(176, 256, 256)</td>\n      <td>int32</td>\n      <td>desc-brain_T1w, space-T1w_desc-brain_mask, fro...</td>\n      <td>sub-0025429_ses-1_label-WM_mask</td>\n    </tr>\n    <tr>\n      <th>5</th>\n      <td>1</td>\n      <td>WM</td>\n      <td>sub-0025429</td>\n      <td>probseg</td>\n      <td>nii.gz</td>\n      <td>(176, 256, 256)</td>\n      <td>float32</td>\n      <td>desc-brain_T1w, space-T1w_desc-brain_mask, fro...</td>\n      <td>sub-0025429_ses-1_label-WM_probseg</td>\n    </tr>\n  </tbody>\n</table>\n</div>"
     },
     "metadata": {},
     "output_type": "display_data"
    },
    {
     "data": {
      "text/plain": "  ses     space   desc      _source _suffix _fileext           _shape  \\\n0   1       T1w  brain  sub-0025429    mask   nii.gz  (176, 256, 256)   \n1   1  template  brain  sub-0025429     T1w   nii.gz    (91, 109, 91)   \n\n    _dtype                                           _sources  \\\n0    int16                                   desc-preproc_T1w   \n1  float64  desc-brain_T1w, space-T1w_desc-brain_mask, des...   \n\n                                        _description  \\\n0                                                NaN   \n1  The preprocessed T1w brain transformed to temp...   \n\n                                         _filepath  \n0      sub-0025429_ses-1_space-T1w_desc-brain_mask  \n1  sub-0025429_ses-1_space-template_desc-brain_T1w  ",
      "text/html": "<div>\n<style scoped>\n    .dataframe tbody tr th:only-of-type {\n        vertical-align: middle;\n    }\n\n    .dataframe tbody tr th {\n        vertical-align: top;\n    }\n\n    .dataframe thead th {\n        text-align: right;\n    }\n</style>\n<table border=\"1\" class=\"dataframe\">\n  <thead>\n    <tr style=\"text-align: right;\">\n      <th></th>\n      <th>ses</th>\n      <th>space</th>\n      <th>desc</th>\n      <th>_source</th>\n      <th>_suffix</th>\n      <th>_fileext</th>\n      <th>_shape</th>\n      <th>_dtype</th>\n      <th>_sources</th>\n      <th>_description</th>\n      <th>_filepath</th>\n    </tr>\n  </thead>\n  <tbody>\n    <tr>\n      <th>0</th>\n      <td>1</td>\n      <td>T1w</td>\n      <td>brain</td>\n      <td>sub-0025429</td>\n      <td>mask</td>\n      <td>nii.gz</td>\n      <td>(176, 256, 256)</td>\n      <td>int16</td>\n      <td>desc-preproc_T1w</td>\n      <td>NaN</td>\n      <td>sub-0025429_ses-1_space-T1w_desc-brain_mask</td>\n    </tr>\n    <tr>\n      <th>1</th>\n      <td>1</td>\n      <td>template</td>\n      <td>brain</td>\n      <td>sub-0025429</td>\n      <td>T1w</td>\n      <td>nii.gz</td>\n      <td>(91, 109, 91)</td>\n      <td>float64</td>\n      <td>desc-brain_T1w, space-T1w_desc-brain_mask, des...</td>\n      <td>The preprocessed T1w brain transformed to temp...</td>\n      <td>sub-0025429_ses-1_space-template_desc-brain_T1w</td>\n    </tr>\n  </tbody>\n</table>\n</div>"
     },
     "metadata": {},
     "output_type": "display_data"
    },
    {
     "data": {
      "text/plain": "   ses  task run      _source                                   _suffix  \\\n0    1  rest   1  sub-0025429                         bold-snr-axial-qc   \n1    1  rest   1  sub-0025429                          bold-snr-hist-qc   \n2    1  rest   1  sub-0025429                               bold-snr-qc   \n3    1  rest   1  sub-0025429                      bold-snr-sagittal-qc   \n4    1  rest   1  sub-0025429                                     dvars   \n5    1  rest   1  sub-0025429  framewise-displacement-jenkinson-plot-qc   \n6    1  rest   1  sub-0025429          framewise-displacement-jenkinson   \n7    1  rest   1  sub-0025429              framewise-displacement-power   \n8    1  rest   1  sub-0025429                          max-displacement   \n9    1  rest   1  sub-0025429                             motion-params   \n10   1  rest   1  sub-0025429                movement-parameters-rot-qc   \n11   1  rest   1  sub-0025429              movement-parameters-trans-qc   \n12   1  rest   1  sub-0025429                       movement-parameters   \n13   1  rest   1  sub-0025429                              power-params   \n\n   _fileext                                           _sources  \\\n0       png  desc-brain_bold, space-bold_desc-brain_mask, f...   \n1       png  desc-brain_bold, space-bold_desc-brain_mask, f...   \n2       txt  desc-brain_bold, space-bold_desc-brain_mask, f...   \n3       png  desc-brain_bold, space-bold_desc-brain_mask, f...   \n4        1D  desc-preproc_bold, space-bold_desc-brain_mask,...   \n5       png                   framewise-displacement-jenkinson   \n6        1D  desc-preproc_bold, space-bold_desc-brain_mask,...   \n7        1D  desc-preproc_bold, space-bold_desc-brain_mask,...   \n8        1D                 desc-preproc_bold, motion-basefile   \n9       txt  desc-preproc_bold, space-bold_desc-brain_mask,...   \n10      png                                movement-parameters   \n11      png                                movement-parameters   \n12       1D                 desc-preproc_bold, motion-basefile   \n13      txt  desc-preproc_bold, space-bold_desc-brain_mask,...   \n\n                                            _filepath  \n0   sub-0025429_ses-1_task-rest_run-1_bold-snr-axi...  \n1   sub-0025429_ses-1_task-rest_run-1_bold-snr-his...  \n2       sub-0025429_ses-1_task-rest_run-1_bold-snr-qc  \n3   sub-0025429_ses-1_task-rest_run-1_bold-snr-sag...  \n4             sub-0025429_ses-1_task-rest_run-1_dvars  \n5   sub-0025429_ses-1_task-rest_run-1_framewise-di...  \n6   sub-0025429_ses-1_task-rest_run-1_framewise-di...  \n7   sub-0025429_ses-1_task-rest_run-1_framewise-di...  \n8   sub-0025429_ses-1_task-rest_run-1_max-displace...  \n9     sub-0025429_ses-1_task-rest_run-1_motion-params  \n10  sub-0025429_ses-1_task-rest_run-1_movement-par...  \n11  sub-0025429_ses-1_task-rest_run-1_movement-par...  \n12  sub-0025429_ses-1_task-rest_run-1_movement-par...  \n13     sub-0025429_ses-1_task-rest_run-1_power-params  ",
      "text/html": "<div>\n<style scoped>\n    .dataframe tbody tr th:only-of-type {\n        vertical-align: middle;\n    }\n\n    .dataframe tbody tr th {\n        vertical-align: top;\n    }\n\n    .dataframe thead th {\n        text-align: right;\n    }\n</style>\n<table border=\"1\" class=\"dataframe\">\n  <thead>\n    <tr style=\"text-align: right;\">\n      <th></th>\n      <th>ses</th>\n      <th>task</th>\n      <th>run</th>\n      <th>_source</th>\n      <th>_suffix</th>\n      <th>_fileext</th>\n      <th>_sources</th>\n      <th>_filepath</th>\n    </tr>\n  </thead>\n  <tbody>\n    <tr>\n      <th>0</th>\n      <td>1</td>\n      <td>rest</td>\n      <td>1</td>\n      <td>sub-0025429</td>\n      <td>bold-snr-axial-qc</td>\n      <td>png</td>\n      <td>desc-brain_bold, space-bold_desc-brain_mask, f...</td>\n      <td>sub-0025429_ses-1_task-rest_run-1_bold-snr-axi...</td>\n    </tr>\n    <tr>\n      <th>1</th>\n      <td>1</td>\n      <td>rest</td>\n      <td>1</td>\n      <td>sub-0025429</td>\n      <td>bold-snr-hist-qc</td>\n      <td>png</td>\n      <td>desc-brain_bold, space-bold_desc-brain_mask, f...</td>\n      <td>sub-0025429_ses-1_task-rest_run-1_bold-snr-his...</td>\n    </tr>\n    <tr>\n      <th>2</th>\n      <td>1</td>\n      <td>rest</td>\n      <td>1</td>\n      <td>sub-0025429</td>\n      <td>bold-snr-qc</td>\n      <td>txt</td>\n      <td>desc-brain_bold, space-bold_desc-brain_mask, f...</td>\n      <td>sub-0025429_ses-1_task-rest_run-1_bold-snr-qc</td>\n    </tr>\n    <tr>\n      <th>3</th>\n      <td>1</td>\n      <td>rest</td>\n      <td>1</td>\n      <td>sub-0025429</td>\n      <td>bold-snr-sagittal-qc</td>\n      <td>png</td>\n      <td>desc-brain_bold, space-bold_desc-brain_mask, f...</td>\n      <td>sub-0025429_ses-1_task-rest_run-1_bold-snr-sag...</td>\n    </tr>\n    <tr>\n      <th>4</th>\n      <td>1</td>\n      <td>rest</td>\n      <td>1</td>\n      <td>sub-0025429</td>\n      <td>dvars</td>\n      <td>1D</td>\n      <td>desc-preproc_bold, space-bold_desc-brain_mask,...</td>\n      <td>sub-0025429_ses-1_task-rest_run-1_dvars</td>\n    </tr>\n    <tr>\n      <th>5</th>\n      <td>1</td>\n      <td>rest</td>\n      <td>1</td>\n      <td>sub-0025429</td>\n      <td>framewise-displacement-jenkinson-plot-qc</td>\n      <td>png</td>\n      <td>framewise-displacement-jenkinson</td>\n      <td>sub-0025429_ses-1_task-rest_run-1_framewise-di...</td>\n    </tr>\n    <tr>\n      <th>6</th>\n      <td>1</td>\n      <td>rest</td>\n      <td>1</td>\n      <td>sub-0025429</td>\n      <td>framewise-displacement-jenkinson</td>\n      <td>1D</td>\n      <td>desc-preproc_bold, space-bold_desc-brain_mask,...</td>\n      <td>sub-0025429_ses-1_task-rest_run-1_framewise-di...</td>\n    </tr>\n    <tr>\n      <th>7</th>\n      <td>1</td>\n      <td>rest</td>\n      <td>1</td>\n      <td>sub-0025429</td>\n      <td>framewise-displacement-power</td>\n      <td>1D</td>\n      <td>desc-preproc_bold, space-bold_desc-brain_mask,...</td>\n      <td>sub-0025429_ses-1_task-rest_run-1_framewise-di...</td>\n    </tr>\n    <tr>\n      <th>8</th>\n      <td>1</td>\n      <td>rest</td>\n      <td>1</td>\n      <td>sub-0025429</td>\n      <td>max-displacement</td>\n      <td>1D</td>\n      <td>desc-preproc_bold, motion-basefile</td>\n      <td>sub-0025429_ses-1_task-rest_run-1_max-displace...</td>\n    </tr>\n    <tr>\n      <th>9</th>\n      <td>1</td>\n      <td>rest</td>\n      <td>1</td>\n      <td>sub-0025429</td>\n      <td>motion-params</td>\n      <td>txt</td>\n      <td>desc-preproc_bold, space-bold_desc-brain_mask,...</td>\n      <td>sub-0025429_ses-1_task-rest_run-1_motion-params</td>\n    </tr>\n    <tr>\n      <th>10</th>\n      <td>1</td>\n      <td>rest</td>\n      <td>1</td>\n      <td>sub-0025429</td>\n      <td>movement-parameters-rot-qc</td>\n      <td>png</td>\n      <td>movement-parameters</td>\n      <td>sub-0025429_ses-1_task-rest_run-1_movement-par...</td>\n    </tr>\n    <tr>\n      <th>11</th>\n      <td>1</td>\n      <td>rest</td>\n      <td>1</td>\n      <td>sub-0025429</td>\n      <td>movement-parameters-trans-qc</td>\n      <td>png</td>\n      <td>movement-parameters</td>\n      <td>sub-0025429_ses-1_task-rest_run-1_movement-par...</td>\n    </tr>\n    <tr>\n      <th>12</th>\n      <td>1</td>\n      <td>rest</td>\n      <td>1</td>\n      <td>sub-0025429</td>\n      <td>movement-parameters</td>\n      <td>1D</td>\n      <td>desc-preproc_bold, motion-basefile</td>\n      <td>sub-0025429_ses-1_task-rest_run-1_movement-par...</td>\n    </tr>\n    <tr>\n      <th>13</th>\n      <td>1</td>\n      <td>rest</td>\n      <td>1</td>\n      <td>sub-0025429</td>\n      <td>power-params</td>\n      <td>txt</td>\n      <td>desc-preproc_bold, space-bold_desc-brain_mask,...</td>\n      <td>sub-0025429_ses-1_task-rest_run-1_power-params</td>\n    </tr>\n  </tbody>\n</table>\n</div>"
     },
     "metadata": {},
     "output_type": "display_data"
    },
    {
     "data": {
      "text/plain": "  ses  task run       desc      _source     _suffix _fileext  \\\n0   1  rest   1          1  sub-0025429  regressors       1D   \n1   1  rest   1          2  sub-0025429  regressors       1D   \n2   1  rest   1       mean  sub-0025429        bold   nii.gz   \n3   1  rest   1  preproc-1  sub-0025429        bold   nii.gz   \n4   1  rest   1  preproc-2  sub-0025429        bold   nii.gz   \n\n                                            _sources             _shape  \\\n0  TR, regressors, space-bold_desc-brain_mask, fr...                NaN   \n1  TR, regressors, space-bold_desc-brain_mask, fr...                NaN   \n2                                  desc-preproc_bold       (64, 64, 43)   \n3  TR, regressors, space-bold_desc-brain_mask, fr...  (64, 64, 43, 300)   \n4  TR, regressors, space-bold_desc-brain_mask, fr...  (64, 64, 43, 300)   \n\n    _dtype                                          _filepath  \n0      NaN  sub-0025429_ses-1_task-rest_run-1_desc-1_regre...  \n1      NaN  sub-0025429_ses-1_task-rest_run-1_desc-2_regre...  \n2  float32   sub-0025429_ses-1_task-rest_run-1_desc-mean_bold  \n3  float32  sub-0025429_ses-1_task-rest_run-1_desc-preproc...  \n4  float32  sub-0025429_ses-1_task-rest_run-1_desc-preproc...  ",
      "text/html": "<div>\n<style scoped>\n    .dataframe tbody tr th:only-of-type {\n        vertical-align: middle;\n    }\n\n    .dataframe tbody tr th {\n        vertical-align: top;\n    }\n\n    .dataframe thead th {\n        text-align: right;\n    }\n</style>\n<table border=\"1\" class=\"dataframe\">\n  <thead>\n    <tr style=\"text-align: right;\">\n      <th></th>\n      <th>ses</th>\n      <th>task</th>\n      <th>run</th>\n      <th>desc</th>\n      <th>_source</th>\n      <th>_suffix</th>\n      <th>_fileext</th>\n      <th>_sources</th>\n      <th>_shape</th>\n      <th>_dtype</th>\n      <th>_filepath</th>\n    </tr>\n  </thead>\n  <tbody>\n    <tr>\n      <th>0</th>\n      <td>1</td>\n      <td>rest</td>\n      <td>1</td>\n      <td>1</td>\n      <td>sub-0025429</td>\n      <td>regressors</td>\n      <td>1D</td>\n      <td>TR, regressors, space-bold_desc-brain_mask, fr...</td>\n      <td>NaN</td>\n      <td>NaN</td>\n      <td>sub-0025429_ses-1_task-rest_run-1_desc-1_regre...</td>\n    </tr>\n    <tr>\n      <th>1</th>\n      <td>1</td>\n      <td>rest</td>\n      <td>1</td>\n      <td>2</td>\n      <td>sub-0025429</td>\n      <td>regressors</td>\n      <td>1D</td>\n      <td>TR, regressors, space-bold_desc-brain_mask, fr...</td>\n      <td>NaN</td>\n      <td>NaN</td>\n      <td>sub-0025429_ses-1_task-rest_run-1_desc-2_regre...</td>\n    </tr>\n    <tr>\n      <th>2</th>\n      <td>1</td>\n      <td>rest</td>\n      <td>1</td>\n      <td>mean</td>\n      <td>sub-0025429</td>\n      <td>bold</td>\n      <td>nii.gz</td>\n      <td>desc-preproc_bold</td>\n      <td>(64, 64, 43)</td>\n      <td>float32</td>\n      <td>sub-0025429_ses-1_task-rest_run-1_desc-mean_bold</td>\n    </tr>\n    <tr>\n      <th>3</th>\n      <td>1</td>\n      <td>rest</td>\n      <td>1</td>\n      <td>preproc-1</td>\n      <td>sub-0025429</td>\n      <td>bold</td>\n      <td>nii.gz</td>\n      <td>TR, regressors, space-bold_desc-brain_mask, fr...</td>\n      <td>(64, 64, 43, 300)</td>\n      <td>float32</td>\n      <td>sub-0025429_ses-1_task-rest_run-1_desc-preproc...</td>\n    </tr>\n    <tr>\n      <th>4</th>\n      <td>1</td>\n      <td>rest</td>\n      <td>1</td>\n      <td>preproc-2</td>\n      <td>sub-0025429</td>\n      <td>bold</td>\n      <td>nii.gz</td>\n      <td>TR, regressors, space-bold_desc-brain_mask, fr...</td>\n      <td>(64, 64, 43, 300)</td>\n      <td>float32</td>\n      <td>sub-0025429_ses-1_task-rest_run-1_desc-preproc...</td>\n    </tr>\n  </tbody>\n</table>\n</div>"
     },
     "metadata": {},
     "output_type": "display_data"
    },
    {
     "data": {
      "text/plain": "  ses  task run  from   to   mode    desc      _source _suffix _fileext  \\\n0   1  rest   1  bold  T1w  image  linear  sub-0025429     xfm      mat   \n\n                                            _sources  \\\n0  desc-reginput_bold, desc-motion_bold, desc-bra...   \n\n                                           _filepath  \n0  sub-0025429_ses-1_task-rest_run-1_from-bold_to...  ",
      "text/html": "<div>\n<style scoped>\n    .dataframe tbody tr th:only-of-type {\n        vertical-align: middle;\n    }\n\n    .dataframe tbody tr th {\n        vertical-align: top;\n    }\n\n    .dataframe thead th {\n        text-align: right;\n    }\n</style>\n<table border=\"1\" class=\"dataframe\">\n  <thead>\n    <tr style=\"text-align: right;\">\n      <th></th>\n      <th>ses</th>\n      <th>task</th>\n      <th>run</th>\n      <th>from</th>\n      <th>to</th>\n      <th>mode</th>\n      <th>desc</th>\n      <th>_source</th>\n      <th>_suffix</th>\n      <th>_fileext</th>\n      <th>_sources</th>\n      <th>_filepath</th>\n    </tr>\n  </thead>\n  <tbody>\n    <tr>\n      <th>0</th>\n      <td>1</td>\n      <td>rest</td>\n      <td>1</td>\n      <td>bold</td>\n      <td>T1w</td>\n      <td>image</td>\n      <td>linear</td>\n      <td>sub-0025429</td>\n      <td>xfm</td>\n      <td>mat</td>\n      <td>desc-reginput_bold, desc-motion_bold, desc-bra...</td>\n      <td>sub-0025429_ses-1_task-rest_run-1_from-bold_to...</td>\n    </tr>\n  </tbody>\n</table>\n</div>"
     },
     "metadata": {},
     "output_type": "display_data"
    },
    {
     "data": {
      "text/plain": "  ses  task run      from        to   mode      _source _suffix _fileext  \\\n0   1  rest   1      bold  template  image  sub-0025429     xfm   nii.gz   \n1   1  rest   1  template      bold  image  sub-0025429     xfm   nii.gz   \n\n               _shape   _dtype  \\\n0  (61, 73, 61, 1, 3)  float64   \n1  (64, 64, 43, 1, 3)  float64   \n\n                                            _sources  \\\n0  desc-reginput_bold, from-bold_to-T1w_mode-imag...   \n1  desc-reginput_bold, from-bold_to-T1w_mode-imag...   \n\n                                           _filepath  \n0  sub-0025429_ses-1_task-rest_run-1_from-bold_to...  \n1  sub-0025429_ses-1_task-rest_run-1_from-templat...  ",
      "text/html": "<div>\n<style scoped>\n    .dataframe tbody tr th:only-of-type {\n        vertical-align: middle;\n    }\n\n    .dataframe tbody tr th {\n        vertical-align: top;\n    }\n\n    .dataframe thead th {\n        text-align: right;\n    }\n</style>\n<table border=\"1\" class=\"dataframe\">\n  <thead>\n    <tr style=\"text-align: right;\">\n      <th></th>\n      <th>ses</th>\n      <th>task</th>\n      <th>run</th>\n      <th>from</th>\n      <th>to</th>\n      <th>mode</th>\n      <th>_source</th>\n      <th>_suffix</th>\n      <th>_fileext</th>\n      <th>_shape</th>\n      <th>_dtype</th>\n      <th>_sources</th>\n      <th>_filepath</th>\n    </tr>\n  </thead>\n  <tbody>\n    <tr>\n      <th>0</th>\n      <td>1</td>\n      <td>rest</td>\n      <td>1</td>\n      <td>bold</td>\n      <td>template</td>\n      <td>image</td>\n      <td>sub-0025429</td>\n      <td>xfm</td>\n      <td>nii.gz</td>\n      <td>(61, 73, 61, 1, 3)</td>\n      <td>float64</td>\n      <td>desc-reginput_bold, from-bold_to-T1w_mode-imag...</td>\n      <td>sub-0025429_ses-1_task-rest_run-1_from-bold_to...</td>\n    </tr>\n    <tr>\n      <th>1</th>\n      <td>1</td>\n      <td>rest</td>\n      <td>1</td>\n      <td>template</td>\n      <td>bold</td>\n      <td>image</td>\n      <td>sub-0025429</td>\n      <td>xfm</td>\n      <td>nii.gz</td>\n      <td>(64, 64, 43, 1, 3)</td>\n      <td>float64</td>\n      <td>desc-reginput_bold, from-bold_to-T1w_mode-imag...</td>\n      <td>sub-0025429_ses-1_task-rest_run-1_from-templat...</td>\n    </tr>\n  </tbody>\n</table>\n</div>"
     },
     "metadata": {},
     "output_type": "display_data"
    },
    {
     "data": {
      "text/plain": "  ses  task run     space       desc      _source _suffix _fileext  \\\n0   1  rest   1      bold      brain  sub-0025429    mask   nii.gz   \n1   1  rest   1       T1w       mean  sub-0025429    bold   nii.gz   \n2   1  rest   1  template       bold  sub-0025429    mask   nii.gz   \n3   1  rest   1  template       mean  sub-0025429    bold   nii.gz   \n4   1  rest   1  template  preproc-1  sub-0025429    bold   nii.gz   \n5   1  rest   1  template  preproc-2  sub-0025429    bold   nii.gz   \n\n              _shape   _dtype  \\\n0       (64, 64, 43)    uint8   \n1    (176, 256, 256)  float32   \n2       (61, 73, 61)  float64   \n3       (61, 73, 61)  float64   \n4  (61, 73, 61, 300)  float32   \n5  (61, 73, 61, 300)  float32   \n\n                                            _sources  \\\n0                                  desc-preproc_bold   \n1  desc-reginput_bold, desc-motion_bold, desc-bra...   \n2  space-bold_desc-brain_mask, from-bold_to-templ...   \n3  desc-mean_bold, from-bold_to-template_mode-ima...   \n4  desc-preproc_bold, from-bold_to-template_mode-...   \n5  desc-preproc_bold, from-bold_to-template_mode-...   \n\n                                        _description  \\\n0  Binary brain mask of the BOLD functional time-...   \n1                                                NaN   \n2                                                NaN   \n3  Single-volume mean of the BOLD time-series tra...   \n4                                                NaN   \n5                                                NaN   \n\n                                           _filepath  \n0  sub-0025429_ses-1_task-rest_run-1_space-bold_d...  \n1  sub-0025429_ses-1_task-rest_run-1_space-T1w_de...  \n2  sub-0025429_ses-1_task-rest_run-1_space-templa...  \n3  sub-0025429_ses-1_task-rest_run-1_space-templa...  \n4  sub-0025429_ses-1_task-rest_run-1_space-templa...  \n5  sub-0025429_ses-1_task-rest_run-1_space-templa...  ",
      "text/html": "<div>\n<style scoped>\n    .dataframe tbody tr th:only-of-type {\n        vertical-align: middle;\n    }\n\n    .dataframe tbody tr th {\n        vertical-align: top;\n    }\n\n    .dataframe thead th {\n        text-align: right;\n    }\n</style>\n<table border=\"1\" class=\"dataframe\">\n  <thead>\n    <tr style=\"text-align: right;\">\n      <th></th>\n      <th>ses</th>\n      <th>task</th>\n      <th>run</th>\n      <th>space</th>\n      <th>desc</th>\n      <th>_source</th>\n      <th>_suffix</th>\n      <th>_fileext</th>\n      <th>_shape</th>\n      <th>_dtype</th>\n      <th>_sources</th>\n      <th>_description</th>\n      <th>_filepath</th>\n    </tr>\n  </thead>\n  <tbody>\n    <tr>\n      <th>0</th>\n      <td>1</td>\n      <td>rest</td>\n      <td>1</td>\n      <td>bold</td>\n      <td>brain</td>\n      <td>sub-0025429</td>\n      <td>mask</td>\n      <td>nii.gz</td>\n      <td>(64, 64, 43)</td>\n      <td>uint8</td>\n      <td>desc-preproc_bold</td>\n      <td>Binary brain mask of the BOLD functional time-...</td>\n      <td>sub-0025429_ses-1_task-rest_run-1_space-bold_d...</td>\n    </tr>\n    <tr>\n      <th>1</th>\n      <td>1</td>\n      <td>rest</td>\n      <td>1</td>\n      <td>T1w</td>\n      <td>mean</td>\n      <td>sub-0025429</td>\n      <td>bold</td>\n      <td>nii.gz</td>\n      <td>(176, 256, 256)</td>\n      <td>float32</td>\n      <td>desc-reginput_bold, desc-motion_bold, desc-bra...</td>\n      <td>NaN</td>\n      <td>sub-0025429_ses-1_task-rest_run-1_space-T1w_de...</td>\n    </tr>\n    <tr>\n      <th>2</th>\n      <td>1</td>\n      <td>rest</td>\n      <td>1</td>\n      <td>template</td>\n      <td>bold</td>\n      <td>sub-0025429</td>\n      <td>mask</td>\n      <td>nii.gz</td>\n      <td>(61, 73, 61)</td>\n      <td>float64</td>\n      <td>space-bold_desc-brain_mask, from-bold_to-templ...</td>\n      <td>NaN</td>\n      <td>sub-0025429_ses-1_task-rest_run-1_space-templa...</td>\n    </tr>\n    <tr>\n      <th>3</th>\n      <td>1</td>\n      <td>rest</td>\n      <td>1</td>\n      <td>template</td>\n      <td>mean</td>\n      <td>sub-0025429</td>\n      <td>bold</td>\n      <td>nii.gz</td>\n      <td>(61, 73, 61)</td>\n      <td>float64</td>\n      <td>desc-mean_bold, from-bold_to-template_mode-ima...</td>\n      <td>Single-volume mean of the BOLD time-series tra...</td>\n      <td>sub-0025429_ses-1_task-rest_run-1_space-templa...</td>\n    </tr>\n    <tr>\n      <th>4</th>\n      <td>1</td>\n      <td>rest</td>\n      <td>1</td>\n      <td>template</td>\n      <td>preproc-1</td>\n      <td>sub-0025429</td>\n      <td>bold</td>\n      <td>nii.gz</td>\n      <td>(61, 73, 61, 300)</td>\n      <td>float32</td>\n      <td>desc-preproc_bold, from-bold_to-template_mode-...</td>\n      <td>NaN</td>\n      <td>sub-0025429_ses-1_task-rest_run-1_space-templa...</td>\n    </tr>\n    <tr>\n      <th>5</th>\n      <td>1</td>\n      <td>rest</td>\n      <td>1</td>\n      <td>template</td>\n      <td>preproc-2</td>\n      <td>sub-0025429</td>\n      <td>bold</td>\n      <td>nii.gz</td>\n      <td>(61, 73, 61, 300)</td>\n      <td>float32</td>\n      <td>desc-preproc_bold, from-bold_to-template_mode-...</td>\n      <td>NaN</td>\n      <td>sub-0025429_ses-1_task-rest_run-1_space-templa...</td>\n    </tr>\n  </tbody>\n</table>\n</div>"
     },
     "metadata": {},
     "output_type": "display_data"
    },
    {
     "data": {
      "text/plain": "  ses  task run     space         res  desc      _source _suffix _fileext  \\\n0   1  rest   1  template  derivative  bold  sub-0025429    mask   nii.gz   \n\n         _shape   _dtype                                           _sources  \\\n0  (61, 73, 61)  float64  space-bold_desc-brain_mask, from-bold_to-templ...   \n\n                                           _filepath  \n0  sub-0025429_ses-1_task-rest_run-1_space-templa...  ",
      "text/html": "<div>\n<style scoped>\n    .dataframe tbody tr th:only-of-type {\n        vertical-align: middle;\n    }\n\n    .dataframe tbody tr th {\n        vertical-align: top;\n    }\n\n    .dataframe thead th {\n        text-align: right;\n    }\n</style>\n<table border=\"1\" class=\"dataframe\">\n  <thead>\n    <tr style=\"text-align: right;\">\n      <th></th>\n      <th>ses</th>\n      <th>task</th>\n      <th>run</th>\n      <th>space</th>\n      <th>res</th>\n      <th>desc</th>\n      <th>_source</th>\n      <th>_suffix</th>\n      <th>_fileext</th>\n      <th>_shape</th>\n      <th>_dtype</th>\n      <th>_sources</th>\n      <th>_filepath</th>\n    </tr>\n  </thead>\n  <tbody>\n    <tr>\n      <th>0</th>\n      <td>1</td>\n      <td>rest</td>\n      <td>1</td>\n      <td>template</td>\n      <td>derivative</td>\n      <td>bold</td>\n      <td>sub-0025429</td>\n      <td>mask</td>\n      <td>nii.gz</td>\n      <td>(61, 73, 61)</td>\n      <td>float64</td>\n      <td>space-bold_desc-brain_mask, from-bold_to-templ...</td>\n      <td>sub-0025429_ses-1_task-rest_run-1_space-templa...</td>\n    </tr>\n  </tbody>\n</table>\n</div>"
     },
     "metadata": {},
     "output_type": "display_data"
    }
   ],
   "source": [
    "for df in dfs:\n",
    "    display(df)"
   ],
   "metadata": {
    "collapsed": false
   }
  },
  {
   "cell_type": "markdown",
   "source": [
    "The above code is the most (possibly/maybe-)practical thing I could come up with for an automated solution of this challenge.\n",
    "\n",
    "The task description mentions crawling with a GNU shell. I collected the following information with `tree` and by `grep`-ing `find`. (Although I had prior knowledge about BIDS and C-PAC)\n",
    "\n",
    "### BIDS input directories\n",
    "\n",
    "BIDS input directories are quite self-explanatory following a (simplified) pattern of `<subject>/<session>/[anat | fmap | func]/<image>.{ext | json}`.\n",
    "\n",
    "Where `anat` and `func` indicate anatomical and functional image data respectively.\n",
    "I had to look up `fmap` in the [BIDS spec](https://bids-specification.readthedocs.io/en/stable/04-modality-specific-files/01-magnetic-resonance-imaging-data.html#echo-planar-imaging-and-b0-mapping) which indicates fieldmap estimation data (presumably for diffusion imaging).\n",
    "\n",
    "\n",
    "### C-PAC Minimal Preprocessed Output Directory\n",
    "\n",
    "Much of this should be covered by the code above and BIDS description, but here are some additional observations:\n",
    "- `log` contains runtime logs, `working` contains data used during runtime (a lot of serialized/pickeled files), `output` contains the final image and data artifacts.\n",
    "- There is a custom metadata field `CpacProvenance` which seems to model a full dependency graph.\n",
    "- There are HTML visualization of dependencies in `working/cpac_sub-0025429_ses-1/index.html` and of runtime metrics in `log/pipeline_cpac_preproc/sub-0025429_ses-1/callback.log.html`\n"
   ],
   "metadata": {
    "collapsed": false
   }
  }
 ],
 "metadata": {
  "kernelspec": {
   "display_name": "Python 3",
   "language": "python",
   "name": "python3"
  },
  "language_info": {
   "codemirror_mode": {
    "name": "ipython",
    "version": 2
   },
   "file_extension": ".py",
   "mimetype": "text/x-python",
   "name": "python",
   "nbconvert_exporter": "python",
   "pygments_lexer": "ipython2",
   "version": "2.7.6"
  }
 },
 "nbformat": 4,
 "nbformat_minor": 0
}

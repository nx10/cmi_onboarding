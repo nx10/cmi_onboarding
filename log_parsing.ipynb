{
 "cells": [
  {
   "cell_type": "code",
   "execution_count": 1,
   "metadata": {
    "collapsed": true
   },
   "outputs": [],
   "source": [
    "import pathlib as pl\n",
    "\n",
    "from common.log_parser import cpac_log_as_data_table, CpacLogField\n",
    "\n",
    "DATA_ROOT = pl.Path('../data')\n",
    "FILE_LOG = DATA_ROOT / 'C-PAC_Derivatives/preproc/log/pipeline_cpac_preproc/sub-0025429_ses-1/callback.log'"
   ]
  },
  {
   "cell_type": "code",
   "execution_count": 2,
   "outputs": [
    {
     "data": {
      "text/plain": "                                                  id  \\\n0  cpac_sub-0025429_ses-1.func_ingress_sub-002542...   \n1  cpac_sub-0025429_ses-1.func_ingress_sub-002542...   \n2  cpac_sub-0025429_ses-1.func_ingress_sub-002542...   \n3  cpac_sub-0025429_ses-1.id_string_framewise-dis...   \n4  cpac_sub-0025429_ses-1.id_string_movement-para...   \n\n                               hash                      start  \\\n0  cb4168095df35f956f1777a13fbce7e3 2022-08-25 20:01:19.328827   \n1  759744b4a56a0dc166753cd13d31714d 2022-08-25 20:01:19.378771   \n2  c1890211263d123e32c89651816b8a1d 2022-08-25 20:01:19.329928   \n3  c106fe4ab0bd1027cc47e5c8f32037f1 2022-08-25 20:01:19.329366   \n4  e4293ad10942b7f51312a087ce1b34b9 2022-08-25 20:01:19.331077   \n\n                      finish  runtime_threads  runtime_memory_gb  \\\n0 2022-08-25 20:01:19.533309                0           0.205017   \n1 2022-08-25 20:01:19.582697                0           0.204041   \n2 2022-08-25 20:01:19.533498                0           0.205173   \n3 2022-08-25 20:01:19.533361                7           0.205296   \n4 2022-08-25 20:01:19.535098                7           0.205246   \n\n   estimated_memory_gb  num_threads  \n0                  2.0            1  \n1                  2.0            1  \n2                  2.0            1  \n3                  2.0            1  \n4                  2.0            1  ",
      "text/html": "<div>\n<style scoped>\n    .dataframe tbody tr th:only-of-type {\n        vertical-align: middle;\n    }\n\n    .dataframe tbody tr th {\n        vertical-align: top;\n    }\n\n    .dataframe thead th {\n        text-align: right;\n    }\n</style>\n<table border=\"1\" class=\"dataframe\">\n  <thead>\n    <tr style=\"text-align: right;\">\n      <th></th>\n      <th>id</th>\n      <th>hash</th>\n      <th>start</th>\n      <th>finish</th>\n      <th>runtime_threads</th>\n      <th>runtime_memory_gb</th>\n      <th>estimated_memory_gb</th>\n      <th>num_threads</th>\n    </tr>\n  </thead>\n  <tbody>\n    <tr>\n      <th>0</th>\n      <td>cpac_sub-0025429_ses-1.func_ingress_sub-002542...</td>\n      <td>cb4168095df35f956f1777a13fbce7e3</td>\n      <td>2022-08-25 20:01:19.328827</td>\n      <td>2022-08-25 20:01:19.533309</td>\n      <td>0</td>\n      <td>0.205017</td>\n      <td>2.0</td>\n      <td>1</td>\n    </tr>\n    <tr>\n      <th>1</th>\n      <td>cpac_sub-0025429_ses-1.func_ingress_sub-002542...</td>\n      <td>759744b4a56a0dc166753cd13d31714d</td>\n      <td>2022-08-25 20:01:19.378771</td>\n      <td>2022-08-25 20:01:19.582697</td>\n      <td>0</td>\n      <td>0.204041</td>\n      <td>2.0</td>\n      <td>1</td>\n    </tr>\n    <tr>\n      <th>2</th>\n      <td>cpac_sub-0025429_ses-1.func_ingress_sub-002542...</td>\n      <td>c1890211263d123e32c89651816b8a1d</td>\n      <td>2022-08-25 20:01:19.329928</td>\n      <td>2022-08-25 20:01:19.533498</td>\n      <td>0</td>\n      <td>0.205173</td>\n      <td>2.0</td>\n      <td>1</td>\n    </tr>\n    <tr>\n      <th>3</th>\n      <td>cpac_sub-0025429_ses-1.id_string_framewise-dis...</td>\n      <td>c106fe4ab0bd1027cc47e5c8f32037f1</td>\n      <td>2022-08-25 20:01:19.329366</td>\n      <td>2022-08-25 20:01:19.533361</td>\n      <td>7</td>\n      <td>0.205296</td>\n      <td>2.0</td>\n      <td>1</td>\n    </tr>\n    <tr>\n      <th>4</th>\n      <td>cpac_sub-0025429_ses-1.id_string_movement-para...</td>\n      <td>e4293ad10942b7f51312a087ce1b34b9</td>\n      <td>2022-08-25 20:01:19.331077</td>\n      <td>2022-08-25 20:01:19.535098</td>\n      <td>7</td>\n      <td>0.205246</td>\n      <td>2.0</td>\n      <td>1</td>\n    </tr>\n  </tbody>\n</table>\n</div>"
     },
     "execution_count": 2,
     "metadata": {},
     "output_type": "execute_result"
    }
   ],
   "source": [
    "# Parse C-Pac log file (see common.log_parser for implementation)\n",
    "df = cpac_log_as_data_table(FILE_LOG)\n",
    "df.head(5)"
   ],
   "metadata": {
    "collapsed": false
   }
  },
  {
   "cell_type": "markdown",
   "source": [],
   "metadata": {
    "collapsed": false
   }
  },
  {
   "cell_type": "code",
   "execution_count": 3,
   "outputs": [
    {
     "data": {
      "text/plain": "                                                    id  \\\n428  cpac_sub-0025429_ses-1.nuisance_regressors_Reg...   \n427  cpac_sub-0025429_ses-1.nuisance_regressors_Reg...   \n423  cpac_sub-0025429_ses-1.nuisance_regressors_Reg...   \n424  cpac_sub-0025429_ses-1.nuisance_regressors_Reg...   \n425  cpac_sub-0025429_ses-1.nuisance_regressors_Reg...   \n\n                                 hash                      start  \\\n428  1827ef75cb17299c76eb9faaa08bddf4 2022-08-25 20:11:13.860045   \n427  1827ef75cb17299c76eb9faaa08bddf4 2022-08-25 20:11:13.858174   \n423  caf85785cf4dca97a3b2f6692406ac9b 2022-08-25 20:10:23.810948   \n424  caf85785cf4dca97a3b2f6692406ac9b 2022-08-25 20:10:23.911008   \n425  247ec1f74ade42e14ed6401a6c9f66a3 2022-08-25 20:11:13.907142   \n\n                        finish  runtime_threads  runtime_memory_gb  \\\n428 2022-08-25 20:11:24.557195               20           4.548512   \n427 2022-08-25 20:11:24.562645               23           4.530048   \n423 2022-08-25 20:11:12.884286                1           3.080265   \n424 2022-08-25 20:11:12.659198                1           3.079681   \n425 2022-08-25 20:11:22.449656                1           1.759644   \n\n     estimated_memory_gb  num_threads  \n428             2.642692            1  \n427             2.642692            1  \n423             1.813846            1  \n424             1.813846            1  \n425             5.000000            1  ",
      "text/html": "<div>\n<style scoped>\n    .dataframe tbody tr th:only-of-type {\n        vertical-align: middle;\n    }\n\n    .dataframe tbody tr th {\n        vertical-align: top;\n    }\n\n    .dataframe thead th {\n        text-align: right;\n    }\n</style>\n<table border=\"1\" class=\"dataframe\">\n  <thead>\n    <tr style=\"text-align: right;\">\n      <th></th>\n      <th>id</th>\n      <th>hash</th>\n      <th>start</th>\n      <th>finish</th>\n      <th>runtime_threads</th>\n      <th>runtime_memory_gb</th>\n      <th>estimated_memory_gb</th>\n      <th>num_threads</th>\n    </tr>\n  </thead>\n  <tbody>\n    <tr>\n      <th>428</th>\n      <td>cpac_sub-0025429_ses-1.nuisance_regressors_Reg...</td>\n      <td>1827ef75cb17299c76eb9faaa08bddf4</td>\n      <td>2022-08-25 20:11:13.860045</td>\n      <td>2022-08-25 20:11:24.557195</td>\n      <td>20</td>\n      <td>4.548512</td>\n      <td>2.642692</td>\n      <td>1</td>\n    </tr>\n    <tr>\n      <th>427</th>\n      <td>cpac_sub-0025429_ses-1.nuisance_regressors_Reg...</td>\n      <td>1827ef75cb17299c76eb9faaa08bddf4</td>\n      <td>2022-08-25 20:11:13.858174</td>\n      <td>2022-08-25 20:11:24.562645</td>\n      <td>23</td>\n      <td>4.530048</td>\n      <td>2.642692</td>\n      <td>1</td>\n    </tr>\n    <tr>\n      <th>423</th>\n      <td>cpac_sub-0025429_ses-1.nuisance_regressors_Reg...</td>\n      <td>caf85785cf4dca97a3b2f6692406ac9b</td>\n      <td>2022-08-25 20:10:23.810948</td>\n      <td>2022-08-25 20:11:12.884286</td>\n      <td>1</td>\n      <td>3.080265</td>\n      <td>1.813846</td>\n      <td>1</td>\n    </tr>\n    <tr>\n      <th>424</th>\n      <td>cpac_sub-0025429_ses-1.nuisance_regressors_Reg...</td>\n      <td>caf85785cf4dca97a3b2f6692406ac9b</td>\n      <td>2022-08-25 20:10:23.911008</td>\n      <td>2022-08-25 20:11:12.659198</td>\n      <td>1</td>\n      <td>3.079681</td>\n      <td>1.813846</td>\n      <td>1</td>\n    </tr>\n    <tr>\n      <th>425</th>\n      <td>cpac_sub-0025429_ses-1.nuisance_regressors_Reg...</td>\n      <td>247ec1f74ade42e14ed6401a6c9f66a3</td>\n      <td>2022-08-25 20:11:13.907142</td>\n      <td>2022-08-25 20:11:22.449656</td>\n      <td>1</td>\n      <td>1.759644</td>\n      <td>5.000000</td>\n      <td>1</td>\n    </tr>\n  </tbody>\n</table>\n</div>"
     },
     "execution_count": 3,
     "metadata": {},
     "output_type": "execute_result"
    }
   ],
   "source": [
    "# Sorted by runtime memory usage\n",
    "df.sort_values(by=[CpacLogField.RUNTIME_MEMORY_GB], ascending=False).head(5)"
   ],
   "metadata": {
    "collapsed": false
   }
  },
  {
   "cell_type": "code",
   "execution_count": 4,
   "outputs": [
    {
     "data": {
      "text/plain": "                                                    id  \\\n313                  cpac_sub-0025429_ses-1.segment_64   \n190          cpac_sub-0025429_ses-1.anat_skullstrip_45   \n358  cpac_sub-0025429_ses-1.func_to_anat_bbreg_120....   \n266  cpac_sub-0025429_ses-1.ANTS_T1_to_template_51....   \n423  cpac_sub-0025429_ses-1.nuisance_regressors_Reg...   \n\n                                 hash                      start  \\\n313  7f37f9babcaf82d1db6263b51984b48c 2022-08-25 20:04:29.458474   \n190  ac7ef85e2a1a84f8a60789bf6fc0dd48 2022-08-25 20:01:35.360384   \n358  e597830dbb66d0def5c1578ffdb61f5d 2022-08-25 20:08:39.713876   \n266  b0d2c94467316a8b40db1bf41350db28 2022-08-25 20:04:27.436744   \n423  caf85785cf4dca97a3b2f6692406ac9b 2022-08-25 20:10:23.810948   \n\n                        finish  runtime_threads  runtime_memory_gb  \\\n313 2022-08-25 20:08:36.716777                4           1.507805   \n190 2022-08-25 20:04:20.052839                6           0.563110   \n358 2022-08-25 20:10:22.733129                1           0.576317   \n266 2022-08-25 20:06:06.070234                1           1.118908   \n423 2022-08-25 20:11:12.884286                1           3.080265   \n\n     estimated_memory_gb  num_threads              _duration  \n313             3.495831            1 0 days 00:04:07.258303  \n190             2.000000            1 0 days 00:02:44.692455  \n358             2.000000            1 0 days 00:01:43.019253  \n266             2.814818            1 0 days 00:01:38.633490  \n423             1.813846            1 0 days 00:00:49.073338  ",
      "text/html": "<div>\n<style scoped>\n    .dataframe tbody tr th:only-of-type {\n        vertical-align: middle;\n    }\n\n    .dataframe tbody tr th {\n        vertical-align: top;\n    }\n\n    .dataframe thead th {\n        text-align: right;\n    }\n</style>\n<table border=\"1\" class=\"dataframe\">\n  <thead>\n    <tr style=\"text-align: right;\">\n      <th></th>\n      <th>id</th>\n      <th>hash</th>\n      <th>start</th>\n      <th>finish</th>\n      <th>runtime_threads</th>\n      <th>runtime_memory_gb</th>\n      <th>estimated_memory_gb</th>\n      <th>num_threads</th>\n      <th>_duration</th>\n    </tr>\n  </thead>\n  <tbody>\n    <tr>\n      <th>313</th>\n      <td>cpac_sub-0025429_ses-1.segment_64</td>\n      <td>7f37f9babcaf82d1db6263b51984b48c</td>\n      <td>2022-08-25 20:04:29.458474</td>\n      <td>2022-08-25 20:08:36.716777</td>\n      <td>4</td>\n      <td>1.507805</td>\n      <td>3.495831</td>\n      <td>1</td>\n      <td>0 days 00:04:07.258303</td>\n    </tr>\n    <tr>\n      <th>190</th>\n      <td>cpac_sub-0025429_ses-1.anat_skullstrip_45</td>\n      <td>ac7ef85e2a1a84f8a60789bf6fc0dd48</td>\n      <td>2022-08-25 20:01:35.360384</td>\n      <td>2022-08-25 20:04:20.052839</td>\n      <td>6</td>\n      <td>0.563110</td>\n      <td>2.000000</td>\n      <td>1</td>\n      <td>0 days 00:02:44.692455</td>\n    </tr>\n    <tr>\n      <th>358</th>\n      <td>cpac_sub-0025429_ses-1.func_to_anat_bbreg_120....</td>\n      <td>e597830dbb66d0def5c1578ffdb61f5d</td>\n      <td>2022-08-25 20:08:39.713876</td>\n      <td>2022-08-25 20:10:22.733129</td>\n      <td>1</td>\n      <td>0.576317</td>\n      <td>2.000000</td>\n      <td>1</td>\n      <td>0 days 00:01:43.019253</td>\n    </tr>\n    <tr>\n      <th>266</th>\n      <td>cpac_sub-0025429_ses-1.ANTS_T1_to_template_51....</td>\n      <td>b0d2c94467316a8b40db1bf41350db28</td>\n      <td>2022-08-25 20:04:27.436744</td>\n      <td>2022-08-25 20:06:06.070234</td>\n      <td>1</td>\n      <td>1.118908</td>\n      <td>2.814818</td>\n      <td>1</td>\n      <td>0 days 00:01:38.633490</td>\n    </tr>\n    <tr>\n      <th>423</th>\n      <td>cpac_sub-0025429_ses-1.nuisance_regressors_Reg...</td>\n      <td>caf85785cf4dca97a3b2f6692406ac9b</td>\n      <td>2022-08-25 20:10:23.810948</td>\n      <td>2022-08-25 20:11:12.884286</td>\n      <td>1</td>\n      <td>3.080265</td>\n      <td>1.813846</td>\n      <td>1</td>\n      <td>0 days 00:00:49.073338</td>\n    </tr>\n  </tbody>\n</table>\n</div>"
     },
     "execution_count": 4,
     "metadata": {},
     "output_type": "execute_result"
    }
   ],
   "source": [
    "# Sorted by runtime duration\n",
    "df['_duration'] = df[CpacLogField.DATE_TIME_END] - df[CpacLogField.DATE_TIME_START]\n",
    "df.sort_values(by=['_duration'], ascending=False).head(5)"
   ],
   "metadata": {
    "collapsed": false
   }
  }
 ],
 "metadata": {
  "kernelspec": {
   "display_name": "Python 3",
   "language": "python",
   "name": "python3"
  },
  "language_info": {
   "codemirror_mode": {
    "name": "ipython",
    "version": 2
   },
   "file_extension": ".py",
   "mimetype": "text/x-python",
   "name": "python",
   "nbconvert_exporter": "python",
   "pygments_lexer": "ipython2",
   "version": "2.7.6"
  }
 },
 "nbformat": 4,
 "nbformat_minor": 0
}

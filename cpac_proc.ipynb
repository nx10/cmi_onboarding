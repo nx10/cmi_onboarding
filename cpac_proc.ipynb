{
 "cells": [
  {
   "cell_type": "code",
   "execution_count": 1,
   "outputs": [],
   "source": [
    "import pathlib as pl\n",
    "\n",
    "DATA_ROOT = pl.Path('../data')\n",
    "DIR_TEMP = pl.Path('../temp')\n",
    "DIR_TEMP.mkdir(parents=True, exist_ok=True)\n",
    "\n",
    "FILE_CONFIG_NO_COMP_CORR = DIR_TEMP / 'config_no_comp_corr.yml'"
   ],
   "metadata": {
    "collapsed": false
   }
  },
  {
   "cell_type": "code",
   "execution_count": 2,
   "outputs": [
    {
     "name": "stdout",
     "output_type": "stream",
     "text": [
      "cpac run C:\\Users\\Flo\\Projects\\cmi\\onboarding\\data\\Raw_Data\\HNU_1 C:\\Users\\Flo\\Projects\\cmi\\onboarding\\temp\\out_default participant\n"
     ]
    }
   ],
   "source": [
    "dir_in = DATA_ROOT / 'Raw_Data/HNU_1'\n",
    "dir_out = DIR_TEMP / 'out_default'\n",
    "dir_out.mkdir(parents=True, exist_ok=True)\n",
    "\n",
    "print(f'cpac run {dir_in.absolute().resolve()} {dir_out.absolute().resolve()} participant')\n",
    "\n",
    "# I ran this locally and added the log here:\n",
    "# cpac_run_proof/no_comp_corr_pypeline.log"
   ],
   "metadata": {
    "collapsed": false
   }
  },
  {
   "cell_type": "code",
   "execution_count": 3,
   "outputs": [],
   "source": [
    "config_no_comp_corr = \"\"\"\n",
    "# https://github.com/FCP-INDI/C-PAC/blob/9453398fefcdc83bea2b82727c52b5d140a69989/dev/docker_data/default_pipeline.yml\n",
    "FROM: default\n",
    "\n",
    "pipeline_setup:\n",
    "  pipeline_name: onboarding_no_comp_corr\n",
    "\n",
    "nuisance_corrections:\n",
    "\n",
    "  2-nuisance_regression:\n",
    " # Select which nuisance signal corrections to apply\n",
    "    Regressors:\n",
    "\n",
    "      -  Name: 'default'\n",
    "\n",
    "         Motion:\n",
    "           include_delayed: true\n",
    "           include_squared: true\n",
    "           include_delayed_squared: true\n",
    "\n",
    "         #aCompCor:\n",
    "         #  summary:\n",
    "         #    method: DetrendPC\n",
    "         #    components: 5\n",
    "         #  tissues:\n",
    "         #    - WhiteMatter\n",
    "         #    - CerebrospinalFluid\n",
    "         #  extraction_resolution: 2\n",
    "\n",
    "         CerebrospinalFluid:\n",
    "           summary: Mean\n",
    "           extraction_resolution: 2\n",
    "           erode_mask: true\n",
    "\n",
    "         GlobalSignal:\n",
    "           summary: Mean\n",
    "\n",
    "         PolyOrt:\n",
    "          degree: 2\n",
    "\n",
    "         Bandpass:\n",
    "           bottom_frequency: 0.01\n",
    "           top_frequency: 0.1\n",
    "           method: default\n",
    "\"\"\"\n",
    "\n",
    "if True or not FILE_CONFIG_NO_COMP_CORR.exists():\n",
    "    with open(FILE_CONFIG_NO_COMP_CORR, 'w') as file:\n",
    "        file.write(config_no_comp_corr)"
   ],
   "metadata": {
    "collapsed": false
   }
  },
  {
   "cell_type": "code",
   "execution_count": 4,
   "outputs": [
    {
     "name": "stdout",
     "output_type": "stream",
     "text": [
      "cpac run C:\\Users\\Flo\\Projects\\cmi\\onboarding\\data\\Raw_Data\\HNU_1 C:\\Users\\Flo\\Projects\\cmi\\onboarding\\temp\\out_no_comp_corr participant --pipeline_file C:\\Users\\Flo\\Projects\\cmi\\onboarding\\temp\\config_no_comp_corr.yml\n"
     ]
    }
   ],
   "source": [
    "dir_in = DATA_ROOT / 'Raw_Data/HNU_1'\n",
    "dir_out = DIR_TEMP / 'out_no_comp_corr'\n",
    "dir_out.mkdir(parents=True, exist_ok=True)\n",
    "\n",
    "print(f'cpac run {dir_in.absolute().resolve()} {dir_out.absolute().resolve()} participant --pipeline_file {FILE_CONFIG_NO_COMP_CORR.absolute().resolve()}')\n",
    "\n",
    "# I ran this locally and added the log here:\n",
    "# cpac_run_proof/no_comp_corr_pypeline.log"
   ],
   "metadata": {
    "collapsed": false
   }
  }
 ],
 "metadata": {
  "kernelspec": {
   "display_name": "Python 3",
   "language": "python",
   "name": "python3"
  },
  "language_info": {
   "codemirror_mode": {
    "name": "ipython",
    "version": 2
   },
   "file_extension": ".py",
   "mimetype": "text/x-python",
   "name": "python",
   "nbconvert_exporter": "python",
   "pygments_lexer": "ipython2",
   "version": "2.7.6"
  }
 },
 "nbformat": 4,
 "nbformat_minor": 0
}
